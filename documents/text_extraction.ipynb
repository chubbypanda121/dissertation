{
 "cells": [
  {
   "cell_type": "code",
   "execution_count": 1,
   "metadata": {},
   "outputs": [],
   "source": [
    "import pandas as pd\n",
    "import random\n",
    "RAND_SEED = 49\n",
    "random.seed(RAND_SEED)"
   ]
  },
  {
   "cell_type": "code",
   "execution_count": 2,
   "id": "dbd3a21d",
   "metadata": {},
   "outputs": [
    {
     "name": "stdout",
     "output_type": "stream",
     "text": [
      "Requirement already satisfied: llmsherpa in /opt/anaconda3/lib/python3.11/site-packages (0.1.4)\n",
      "Requirement already satisfied: urllib3 in /opt/anaconda3/lib/python3.11/site-packages (from llmsherpa) (2.0.7)\n",
      "Requirement already satisfied: llama-index in /opt/anaconda3/lib/python3.11/site-packages (0.10.49)\n",
      "Requirement already satisfied: llama-index-agent-openai<0.3.0,>=0.1.4 in /opt/anaconda3/lib/python3.11/site-packages (from llama-index) (0.2.7)\n",
      "Requirement already satisfied: llama-index-cli<0.2.0,>=0.1.2 in /opt/anaconda3/lib/python3.11/site-packages (from llama-index) (0.1.12)\n",
      "Requirement already satisfied: llama-index-core==0.10.49 in /opt/anaconda3/lib/python3.11/site-packages (from llama-index) (0.10.49)\n",
      "Requirement already satisfied: llama-index-embeddings-openai<0.2.0,>=0.1.5 in /opt/anaconda3/lib/python3.11/site-packages (from llama-index) (0.1.10)\n",
      "Requirement already satisfied: llama-index-indices-managed-llama-cloud<0.2.0,>=0.1.2 in /opt/anaconda3/lib/python3.11/site-packages (from llama-index) (0.1.6)\n",
      "Requirement already satisfied: llama-index-legacy<0.10.0,>=0.9.48 in /opt/anaconda3/lib/python3.11/site-packages (from llama-index) (0.9.48)\n",
      "Requirement already satisfied: llama-index-llms-openai<0.2.0,>=0.1.13 in /opt/anaconda3/lib/python3.11/site-packages (from llama-index) (0.1.22)\n",
      "Requirement already satisfied: llama-index-multi-modal-llms-openai<0.2.0,>=0.1.3 in /opt/anaconda3/lib/python3.11/site-packages (from llama-index) (0.1.6)\n",
      "Requirement already satisfied: llama-index-program-openai<0.2.0,>=0.1.3 in /opt/anaconda3/lib/python3.11/site-packages (from llama-index) (0.1.6)\n",
      "Requirement already satisfied: llama-index-question-gen-openai<0.2.0,>=0.1.2 in /opt/anaconda3/lib/python3.11/site-packages (from llama-index) (0.1.3)\n",
      "Requirement already satisfied: llama-index-readers-file<0.2.0,>=0.1.4 in /opt/anaconda3/lib/python3.11/site-packages (from llama-index) (0.1.25)\n",
      "Requirement already satisfied: llama-index-readers-llama-parse<0.2.0,>=0.1.2 in /opt/anaconda3/lib/python3.11/site-packages (from llama-index) (0.1.4)\n",
      "Requirement already satisfied: PyYAML>=6.0.1 in /opt/anaconda3/lib/python3.11/site-packages (from llama-index-core==0.10.49->llama-index) (6.0.1)\n",
      "Requirement already satisfied: SQLAlchemy>=1.4.49 in /opt/anaconda3/lib/python3.11/site-packages (from SQLAlchemy[asyncio]>=1.4.49->llama-index-core==0.10.49->llama-index) (2.0.25)\n",
      "Requirement already satisfied: aiohttp<4.0.0,>=3.8.6 in /opt/anaconda3/lib/python3.11/site-packages (from llama-index-core==0.10.49->llama-index) (3.9.3)\n",
      "Requirement already satisfied: dataclasses-json in /opt/anaconda3/lib/python3.11/site-packages (from llama-index-core==0.10.49->llama-index) (0.6.7)\n",
      "Requirement already satisfied: deprecated>=1.2.9.3 in /opt/anaconda3/lib/python3.11/site-packages (from llama-index-core==0.10.49->llama-index) (1.2.14)\n",
      "Requirement already satisfied: dirtyjson<2.0.0,>=1.0.8 in /opt/anaconda3/lib/python3.11/site-packages (from llama-index-core==0.10.49->llama-index) (1.0.8)\n",
      "Requirement already satisfied: fsspec>=2023.5.0 in /opt/anaconda3/lib/python3.11/site-packages (from llama-index-core==0.10.49->llama-index) (2023.10.0)\n",
      "Requirement already satisfied: httpx in /opt/anaconda3/lib/python3.11/site-packages (from llama-index-core==0.10.49->llama-index) (0.27.0)\n",
      "Requirement already satisfied: llama-cloud<0.0.7,>=0.0.6 in /opt/anaconda3/lib/python3.11/site-packages (from llama-index-core==0.10.49->llama-index) (0.0.6)\n",
      "Requirement already satisfied: nest-asyncio<2.0.0,>=1.5.8 in /opt/anaconda3/lib/python3.11/site-packages (from llama-index-core==0.10.49->llama-index) (1.6.0)\n",
      "Requirement already satisfied: networkx>=3.0 in /opt/anaconda3/lib/python3.11/site-packages (from llama-index-core==0.10.49->llama-index) (3.1)\n",
      "Requirement already satisfied: nltk<4.0.0,>=3.8.1 in /opt/anaconda3/lib/python3.11/site-packages (from llama-index-core==0.10.49->llama-index) (3.8.1)\n",
      "Requirement already satisfied: numpy<2.0.0 in /opt/anaconda3/lib/python3.11/site-packages (from llama-index-core==0.10.49->llama-index) (1.26.4)\n",
      "Requirement already satisfied: openai>=1.1.0 in /opt/anaconda3/lib/python3.11/site-packages (from llama-index-core==0.10.49->llama-index) (1.35.3)\n",
      "Requirement already satisfied: pandas in /opt/anaconda3/lib/python3.11/site-packages (from llama-index-core==0.10.49->llama-index) (2.1.4)\n",
      "Requirement already satisfied: pillow>=9.0.0 in /opt/anaconda3/lib/python3.11/site-packages (from llama-index-core==0.10.49->llama-index) (10.2.0)\n",
      "Requirement already satisfied: requests>=2.31.0 in /opt/anaconda3/lib/python3.11/site-packages (from llama-index-core==0.10.49->llama-index) (2.31.0)\n",
      "Requirement already satisfied: tenacity!=8.4.0,<9.0.0,>=8.2.0 in /opt/anaconda3/lib/python3.11/site-packages (from llama-index-core==0.10.49->llama-index) (8.2.2)\n",
      "Requirement already satisfied: tiktoken>=0.3.3 in /opt/anaconda3/lib/python3.11/site-packages (from llama-index-core==0.10.49->llama-index) (0.7.0)\n",
      "Requirement already satisfied: tqdm<5.0.0,>=4.66.1 in /opt/anaconda3/lib/python3.11/site-packages (from llama-index-core==0.10.49->llama-index) (4.66.4)\n",
      "Requirement already satisfied: typing-extensions>=4.5.0 in /opt/anaconda3/lib/python3.11/site-packages (from llama-index-core==0.10.49->llama-index) (4.9.0)\n",
      "Requirement already satisfied: typing-inspect>=0.8.0 in /opt/anaconda3/lib/python3.11/site-packages (from llama-index-core==0.10.49->llama-index) (0.9.0)\n",
      "Requirement already satisfied: wrapt in /opt/anaconda3/lib/python3.11/site-packages (from llama-index-core==0.10.49->llama-index) (1.14.1)\n",
      "Requirement already satisfied: llamaindex-py-client<0.2.0,>=0.1.19 in /opt/anaconda3/lib/python3.11/site-packages (from llama-index-indices-managed-llama-cloud<0.2.0,>=0.1.2->llama-index) (0.1.19)\n",
      "Requirement already satisfied: beautifulsoup4<5.0.0,>=4.12.3 in /opt/anaconda3/lib/python3.11/site-packages (from llama-index-readers-file<0.2.0,>=0.1.4->llama-index) (4.12.3)\n",
      "Requirement already satisfied: pypdf<5.0.0,>=4.0.1 in /opt/anaconda3/lib/python3.11/site-packages (from llama-index-readers-file<0.2.0,>=0.1.4->llama-index) (4.2.0)\n",
      "Requirement already satisfied: striprtf<0.0.27,>=0.0.26 in /opt/anaconda3/lib/python3.11/site-packages (from llama-index-readers-file<0.2.0,>=0.1.4->llama-index) (0.0.26)\n",
      "Requirement already satisfied: llama-parse<0.5.0,>=0.4.0 in /opt/anaconda3/lib/python3.11/site-packages (from llama-index-readers-llama-parse<0.2.0,>=0.1.2->llama-index) (0.4.4)\n",
      "Requirement already satisfied: aiosignal>=1.1.2 in /opt/anaconda3/lib/python3.11/site-packages (from aiohttp<4.0.0,>=3.8.6->llama-index-core==0.10.49->llama-index) (1.2.0)\n",
      "Requirement already satisfied: attrs>=17.3.0 in /opt/anaconda3/lib/python3.11/site-packages (from aiohttp<4.0.0,>=3.8.6->llama-index-core==0.10.49->llama-index) (23.1.0)\n",
      "Requirement already satisfied: frozenlist>=1.1.1 in /opt/anaconda3/lib/python3.11/site-packages (from aiohttp<4.0.0,>=3.8.6->llama-index-core==0.10.49->llama-index) (1.4.0)\n",
      "Requirement already satisfied: multidict<7.0,>=4.5 in /opt/anaconda3/lib/python3.11/site-packages (from aiohttp<4.0.0,>=3.8.6->llama-index-core==0.10.49->llama-index) (6.0.4)\n",
      "Requirement already satisfied: yarl<2.0,>=1.0 in /opt/anaconda3/lib/python3.11/site-packages (from aiohttp<4.0.0,>=3.8.6->llama-index-core==0.10.49->llama-index) (1.9.3)\n",
      "Requirement already satisfied: soupsieve>1.2 in /opt/anaconda3/lib/python3.11/site-packages (from beautifulsoup4<5.0.0,>=4.12.3->llama-index-readers-file<0.2.0,>=0.1.4->llama-index) (2.5)\n",
      "Requirement already satisfied: pydantic>=1.10 in /opt/anaconda3/lib/python3.11/site-packages (from llama-cloud<0.0.7,>=0.0.6->llama-index-core==0.10.49->llama-index) (1.10.12)\n",
      "Requirement already satisfied: anyio in /opt/anaconda3/lib/python3.11/site-packages (from httpx->llama-index-core==0.10.49->llama-index) (4.2.0)\n",
      "Requirement already satisfied: certifi in /opt/anaconda3/lib/python3.11/site-packages (from httpx->llama-index-core==0.10.49->llama-index) (2024.2.2)\n",
      "Requirement already satisfied: httpcore==1.* in /opt/anaconda3/lib/python3.11/site-packages (from httpx->llama-index-core==0.10.49->llama-index) (1.0.5)\n",
      "Requirement already satisfied: idna in /opt/anaconda3/lib/python3.11/site-packages (from httpx->llama-index-core==0.10.49->llama-index) (3.4)\n",
      "Requirement already satisfied: sniffio in /opt/anaconda3/lib/python3.11/site-packages (from httpx->llama-index-core==0.10.49->llama-index) (1.3.0)\n",
      "Requirement already satisfied: h11<0.15,>=0.13 in /opt/anaconda3/lib/python3.11/site-packages (from httpcore==1.*->httpx->llama-index-core==0.10.49->llama-index) (0.14.0)\n",
      "Requirement already satisfied: click in /opt/anaconda3/lib/python3.11/site-packages (from nltk<4.0.0,>=3.8.1->llama-index-core==0.10.49->llama-index) (8.1.7)\n",
      "Requirement already satisfied: joblib in /opt/anaconda3/lib/python3.11/site-packages (from nltk<4.0.0,>=3.8.1->llama-index-core==0.10.49->llama-index) (1.2.0)\n",
      "Requirement already satisfied: regex>=2021.8.3 in /opt/anaconda3/lib/python3.11/site-packages (from nltk<4.0.0,>=3.8.1->llama-index-core==0.10.49->llama-index) (2023.10.3)\n",
      "Requirement already satisfied: distro<2,>=1.7.0 in /opt/anaconda3/lib/python3.11/site-packages (from openai>=1.1.0->llama-index-core==0.10.49->llama-index) (1.8.0)\n",
      "Requirement already satisfied: charset-normalizer<4,>=2 in /opt/anaconda3/lib/python3.11/site-packages (from requests>=2.31.0->llama-index-core==0.10.49->llama-index) (2.0.4)\n",
      "Requirement already satisfied: urllib3<3,>=1.21.1 in /opt/anaconda3/lib/python3.11/site-packages (from requests>=2.31.0->llama-index-core==0.10.49->llama-index) (2.0.7)\n",
      "Requirement already satisfied: greenlet!=0.4.17 in /opt/anaconda3/lib/python3.11/site-packages (from SQLAlchemy[asyncio]>=1.4.49->llama-index-core==0.10.49->llama-index) (3.0.1)\n",
      "Requirement already satisfied: mypy-extensions>=0.3.0 in /opt/anaconda3/lib/python3.11/site-packages (from typing-inspect>=0.8.0->llama-index-core==0.10.49->llama-index) (1.0.0)\n",
      "Requirement already satisfied: marshmallow<4.0.0,>=3.18.0 in /opt/anaconda3/lib/python3.11/site-packages (from dataclasses-json->llama-index-core==0.10.49->llama-index) (3.21.3)\n",
      "Requirement already satisfied: python-dateutil>=2.8.2 in /opt/anaconda3/lib/python3.11/site-packages (from pandas->llama-index-core==0.10.49->llama-index) (2.8.2)\n",
      "Requirement already satisfied: pytz>=2020.1 in /opt/anaconda3/lib/python3.11/site-packages (from pandas->llama-index-core==0.10.49->llama-index) (2023.3.post1)\n",
      "Requirement already satisfied: tzdata>=2022.1 in /opt/anaconda3/lib/python3.11/site-packages (from pandas->llama-index-core==0.10.49->llama-index) (2023.3)\n",
      "Requirement already satisfied: packaging>=17.0 in /opt/anaconda3/lib/python3.11/site-packages (from marshmallow<4.0.0,>=3.18.0->dataclasses-json->llama-index-core==0.10.49->llama-index) (23.1)\n",
      "Requirement already satisfied: six>=1.5 in /opt/anaconda3/lib/python3.11/site-packages (from python-dateutil>=2.8.2->pandas->llama-index-core==0.10.49->llama-index) (1.16.0)\n"
     ]
    }
   ],
   "source": [
    "!pip install llmsherpa\n",
    "!pip install llama-index"
   ]
  },
  {
   "cell_type": "code",
   "execution_count": 3,
   "id": "f75717e4",
   "metadata": {},
   "outputs": [
    {
     "name": "stderr",
     "output_type": "stream",
     "text": [
      "/Users/kimbo/Library/Python/3.9/lib/python/site-packages/urllib3/__init__.py:35: NotOpenSSLWarning: urllib3 v2 only supports OpenSSL 1.1.1+, currently the 'ssl' module is compiled with 'LibreSSL 2.8.3'. See: https://github.com/urllib3/urllib3/issues/3020\n",
      "  warnings.warn(\n"
     ]
    }
   ],
   "source": [
    "from llmsherpa.readers import LayoutPDFReader\n",
    "llmsherpa_api_url = \"https://readers.llmsherpa.com/api/document/developer/parseDocument?renderFormat=all\""
   ]
  },
  {
   "cell_type": "code",
   "execution_count": 4,
   "id": "f777df83",
   "metadata": {},
   "outputs": [],
   "source": [
    "pdf = 'Barclays_Wealth_Management.pdf'"
   ]
  },
  {
   "cell_type": "code",
   "execution_count": 6,
   "id": "19232f05",
   "metadata": {},
   "outputs": [],
   "source": [
    "pdf_reader = LayoutPDFReader(llmsherpa_api_url)\n",
    "doc = pdf_reader.read_pdf(pdf)\n",
    "data = doc.json"
   ]
  },
  {
   "cell_type": "code",
   "execution_count": 7,
   "id": "a4263792",
   "metadata": {},
   "outputs": [
    {
     "data": {
      "text/html": [
       "<div>\n",
       "<style scoped>\n",
       "    .dataframe tbody tr th:only-of-type {\n",
       "        vertical-align: middle;\n",
       "    }\n",
       "\n",
       "    .dataframe tbody tr th {\n",
       "        vertical-align: top;\n",
       "    }\n",
       "\n",
       "    .dataframe thead th {\n",
       "        text-align: right;\n",
       "    }\n",
       "</style>\n",
       "<table border=\"1\" class=\"dataframe\">\n",
       "  <thead>\n",
       "    <tr style=\"text-align: right;\">\n",
       "      <th></th>\n",
       "      <th>tag</th>\n",
       "      <th>content</th>\n",
       "      <th>level</th>\n",
       "    </tr>\n",
       "  </thead>\n",
       "  <tbody>\n",
       "    <tr>\n",
       "      <th>0</th>\n",
       "      <td>header</td>\n",
       "      <td>Barclays Wealth Management Additional Banking ...</td>\n",
       "      <td>0</td>\n",
       "    </tr>\n",
       "    <tr>\n",
       "      <th>1</th>\n",
       "      <td>para</td>\n",
       "      <td>These additional terms and conditions apply to...</td>\n",
       "      <td>0</td>\n",
       "    </tr>\n",
       "    <tr>\n",
       "      <th>2</th>\n",
       "      <td>header</td>\n",
       "      <td>1. How the Customer Agreement applies to non-p...</td>\n",
       "      <td>0</td>\n",
       "    </tr>\n",
       "    <tr>\n",
       "      <th>3</th>\n",
       "      <td>para</td>\n",
       "      <td>Section 1 of the Customer Agreement says that ...</td>\n",
       "      <td>0</td>\n",
       "    </tr>\n",
       "    <tr>\n",
       "      <th>4</th>\n",
       "      <td>header</td>\n",
       "      <td>2. Keeping each other informed</td>\n",
       "      <td>0</td>\n",
       "    </tr>\n",
       "  </tbody>\n",
       "</table>\n",
       "</div>"
      ],
      "text/plain": [
       "      tag                                            content  level\n",
       "0  header  Barclays Wealth Management Additional Banking ...      0\n",
       "1    para  These additional terms and conditions apply to...      0\n",
       "2  header  1. How the Customer Agreement applies to non-p...      0\n",
       "3    para  Section 1 of the Customer Agreement says that ...      0\n",
       "4  header                     2. Keeping each other informed      0"
      ]
     },
     "execution_count": 7,
     "metadata": {},
     "output_type": "execute_result"
    }
   ],
   "source": [
    "# extract only 'tag', 'sentences', and 'level' into a new list of dictionaries\n",
    "filtered_data = [{'tag': entry.get('tag', 'N/A'),\n",
    "                  'content': ' '.join(entry.get('sentences', [''])),\n",
    "                  'level': entry.get('level', 'N/A')}\n",
    "                 for entry in data]\n",
    "\n",
    "# turn to dataframe\n",
    "df = pd.DataFrame(filtered_data)\n",
    "df.head()"
   ]
  },
  {
   "cell_type": "code",
   "execution_count": 17,
   "id": "5f17fff6",
   "metadata": {},
   "outputs": [
    {
     "name": "stdout",
     "output_type": "stream",
     "text": [
      "Processing ./Lloyds_Benefits.pdf...\n",
      "Saved CSV: ./Lloyds_Benefits.csv\n",
      "Processing ./HSBC_Loans.pdf...\n",
      "Saved CSV: ./HSBC_Loans.csv\n",
      "Processing ./NatWest_ Reward_Terms.pdf...\n",
      "Saved CSV: ./NatWest_ Reward_Terms.csv\n",
      "Processing ./First_Direct_Facts.pdf...\n",
      "Saved CSV: ./First_Direct_Facts.csv\n",
      "Processing ./Barclays_Wealth_Management.pdf...\n",
      "Saved CSV: ./Barclays_Wealth_Management.csv\n",
      "Processing ./Santander_Conditions.pdf...\n",
      "Saved CSV: ./Santander_Conditions.csv\n",
      "Processing ./Barclays_Mortgages.pdf...\n",
      "Saved CSV: ./Barclays_Mortgages.csv\n",
      "Processing ./Santander_Cashback.pdf...\n",
      "Saved CSV: ./Santander_Cashback.csv\n",
      "Processing ./NatWest_Privacy_Policy.pdf...\n",
      "Saved CSV: ./NatWest_Privacy_Policy.csv\n",
      "Processing ./First_Direct_Loans.pdf...\n",
      "Saved CSV: ./First_Direct_Loans.csv\n",
      "Complete\n"
     ]
    }
   ],
   "source": [
    "## loop that does all of the above for all the pdf files\n",
    "import os\n",
    "\n",
    "directory = '.'\n",
    "\n",
    "pdf_reader = LayoutPDFReader(llmsherpa_api_url)\n",
    "\n",
    "for root, dirs, files in os.walk(directory):\n",
    "    for file in files:\n",
    "        if file.endswith('.pdf'):\n",
    "            pdf_path = os.path.join(root, file)\n",
    "            print(f\"Processing {pdf_path}...\")\n",
    "\n",
    "            # Read the PDF\n",
    "            doc = pdf_reader.read_pdf(pdf_path)\n",
    "            data = doc.json\n",
    "            \n",
    "            # Extract 'tag', 'sentences', and 'level'\n",
    "            filtered_data = [{'tag': entry.get('tag', 'N/A'),\n",
    "                              'content': ' '.join(entry.get('sentences', [''])),\n",
    "                              'level': entry.get('level', 'N/A')}\n",
    "                             for entry in data]\n",
    "            \n",
    "            # Convert to DataFrame\n",
    "            df = pd.DataFrame(filtered_data)\n",
    "            \n",
    "            # Generate CSV file name\n",
    "            csv_file_name = os.path.splitext(file)[0] + '.csv'\n",
    "            csv_file_path = os.path.join(root, csv_file_name)\n",
    "            \n",
    "            # Save DataFrame as CSV in the same directory\n",
    "            df.to_csv(csv_file_path, index=False)\n",
    "            print(f\"Saved CSV: {csv_file_path}\")\n",
    "\n",
    "print(\"Complete\")"
   ]
  }
 ],
 "metadata": {
  "kernelspec": {
   "display_name": "Python 3",
   "language": "python",
   "name": "python3"
  },
  "language_info": {
   "codemirror_mode": {
    "name": "ipython",
    "version": 3
   },
   "file_extension": ".py",
   "mimetype": "text/x-python",
   "name": "python",
   "nbconvert_exporter": "python",
   "pygments_lexer": "ipython3",
   "version": "3.9.6"
  }
 },
 "nbformat": 4,
 "nbformat_minor": 5
}
