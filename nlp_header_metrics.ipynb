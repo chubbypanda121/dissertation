{
 "cells": [
  {
   "cell_type": "code",
   "execution_count": 2,
   "metadata": {},
   "outputs": [],
   "source": [
    "import pandas as pd\n",
    "import numpy as np\n",
    "import sklearn\n",
    "import random\n",
    "\n",
    "RAND_SEED = 49\n",
    "random.seed(RAND_SEED)\n",
    "np.random.seed(RAND_SEED)"
   ]
  },
  {
   "cell_type": "markdown",
   "metadata": {},
   "source": [
    "## Importing Files"
   ]
  },
  {
   "cell_type": "code",
   "execution_count": 3,
   "metadata": {},
   "outputs": [],
   "source": [
    "# import a sample of files\n",
    "barclays = pd.read_csv('./documents/Barclays_Wealth_Management.csv')\n",
    "hsbc = pd.read_csv('./documents/HSBC_Loans.csv')\n",
    "santander = pd.read_csv('./documents/Santander_Cashback.csv')"
   ]
  },
  {
   "cell_type": "code",
   "execution_count": 4,
   "metadata": {},
   "outputs": [
    {
     "data": {
      "text/html": [
       "<div>\n",
       "<style scoped>\n",
       "    .dataframe tbody tr th:only-of-type {\n",
       "        vertical-align: middle;\n",
       "    }\n",
       "\n",
       "    .dataframe tbody tr th {\n",
       "        vertical-align: top;\n",
       "    }\n",
       "\n",
       "    .dataframe thead th {\n",
       "        text-align: right;\n",
       "    }\n",
       "</style>\n",
       "<table border=\"1\" class=\"dataframe\">\n",
       "  <thead>\n",
       "    <tr style=\"text-align: right;\">\n",
       "      <th></th>\n",
       "      <th>tag</th>\n",
       "      <th>content</th>\n",
       "      <th>level</th>\n",
       "    </tr>\n",
       "  </thead>\n",
       "  <tbody>\n",
       "    <tr>\n",
       "      <th>0</th>\n",
       "      <td>header</td>\n",
       "      <td>Barclays Wealth Management Additional Banking ...</td>\n",
       "      <td>0</td>\n",
       "    </tr>\n",
       "    <tr>\n",
       "      <th>1</th>\n",
       "      <td>para</td>\n",
       "      <td>These additional terms and conditions apply to...</td>\n",
       "      <td>0</td>\n",
       "    </tr>\n",
       "    <tr>\n",
       "      <th>2</th>\n",
       "      <td>header</td>\n",
       "      <td>1. How the Customer Agreement applies to non-p...</td>\n",
       "      <td>0</td>\n",
       "    </tr>\n",
       "    <tr>\n",
       "      <th>3</th>\n",
       "      <td>para</td>\n",
       "      <td>Section 1 of the Customer Agreement says that ...</td>\n",
       "      <td>0</td>\n",
       "    </tr>\n",
       "    <tr>\n",
       "      <th>4</th>\n",
       "      <td>header</td>\n",
       "      <td>2. Keeping each other informed</td>\n",
       "      <td>0</td>\n",
       "    </tr>\n",
       "  </tbody>\n",
       "</table>\n",
       "</div>"
      ],
      "text/plain": [
       "      tag                                            content  level\n",
       "0  header  Barclays Wealth Management Additional Banking ...      0\n",
       "1    para  These additional terms and conditions apply to...      0\n",
       "2  header  1. How the Customer Agreement applies to non-p...      0\n",
       "3    para  Section 1 of the Customer Agreement says that ...      0\n",
       "4  header                     2. Keeping each other informed      0"
      ]
     },
     "execution_count": 4,
     "metadata": {},
     "output_type": "execute_result"
    }
   ],
   "source": [
    "barclays.head()"
   ]
  },
  {
   "cell_type": "code",
   "execution_count": 5,
   "metadata": {},
   "outputs": [],
   "source": [
    "barclays[['tag', 'content']] = barclays[['tag', 'content']].astype('str')"
   ]
  },
  {
   "cell_type": "code",
   "execution_count": 6,
   "metadata": {},
   "outputs": [],
   "source": [
    "## define first dataframe creation\n",
    "\n",
    "# header and body pairs\n",
    "def extract_header_body_pairs(df):\n",
    "    headers = []\n",
    "    bodies = []\n",
    "\n",
    "    current_header = None\n",
    "    current_body = []\n",
    "\n",
    "    for index, row in df.iterrows():\n",
    "        if row['tag'] == 'header':\n",
    "            if current_header is not None:\n",
    "                headers.append(current_header)\n",
    "                bodies.append(' '.join(current_body))\n",
    "\n",
    "            current_header = row['content']\n",
    "            current_body = []\n",
    "        else:\n",
    "            current_body.append(row['content'])\n",
    "\n",
    "    if current_header is not None:\n",
    "        headers.append(current_header)\n",
    "        bodies.append(' '.join(current_body))\n",
    "\n",
    "    df_pairs = pd.DataFrame({'header': headers, 'body': bodies})\n",
    "\n",
    "    return df_pairs"
   ]
  },
  {
   "cell_type": "code",
   "execution_count": 7,
   "metadata": {},
   "outputs": [],
   "source": [
    "# headings only df\n",
    "def extract_all_headers(df):\n",
    "    df_headers = df[df['tag'] == 'header'].drop('tag', axis = 1)\n",
    "    df_headers.rename(columns = {'content':'header'}, inplace = True)\n",
    "    return df_headers"
   ]
  },
  {
   "cell_type": "code",
   "execution_count": 8,
   "metadata": {},
   "outputs": [],
   "source": [
    "# extract for csv files\n",
    "barclays_header_body = extract_header_body_pairs(barclays)\n",
    "barclays_headings = extract_all_headers(barclays)"
   ]
  },
  {
   "cell_type": "code",
   "execution_count": 9,
   "metadata": {},
   "outputs": [
    {
     "data": {
      "text/html": [
       "<div>\n",
       "<style scoped>\n",
       "    .dataframe tbody tr th:only-of-type {\n",
       "        vertical-align: middle;\n",
       "    }\n",
       "\n",
       "    .dataframe tbody tr th {\n",
       "        vertical-align: top;\n",
       "    }\n",
       "\n",
       "    .dataframe thead th {\n",
       "        text-align: right;\n",
       "    }\n",
       "</style>\n",
       "<table border=\"1\" class=\"dataframe\">\n",
       "  <thead>\n",
       "    <tr style=\"text-align: right;\">\n",
       "      <th></th>\n",
       "      <th>header</th>\n",
       "      <th>body</th>\n",
       "    </tr>\n",
       "  </thead>\n",
       "  <tbody>\n",
       "    <tr>\n",
       "      <th>0</th>\n",
       "      <td>Barclays Wealth Management Additional Banking ...</td>\n",
       "      <td>These additional terms and conditions apply to...</td>\n",
       "    </tr>\n",
       "    <tr>\n",
       "      <th>1</th>\n",
       "      <td>1. How the Customer Agreement applies to non-p...</td>\n",
       "      <td>Section 1 of the Customer Agreement says that ...</td>\n",
       "    </tr>\n",
       "    <tr>\n",
       "      <th>2</th>\n",
       "      <td>2. Keeping each other informed</td>\n",
       "      <td>In addition to the various ways you can contac...</td>\n",
       "    </tr>\n",
       "    <tr>\n",
       "      <th>3</th>\n",
       "      <td>3. Carrying out your instructions</td>\n",
       "      <td>If we receive an instruction that contains inc...</td>\n",
       "    </tr>\n",
       "    <tr>\n",
       "      <th>4</th>\n",
       "      <td>4. Making payments out of and into your account</td>\n",
       "      <td></td>\n",
       "    </tr>\n",
       "  </tbody>\n",
       "</table>\n",
       "</div>"
      ],
      "text/plain": [
       "                                              header  \\\n",
       "0  Barclays Wealth Management Additional Banking ...   \n",
       "1  1. How the Customer Agreement applies to non-p...   \n",
       "2                     2. Keeping each other informed   \n",
       "3                  3. Carrying out your instructions   \n",
       "4    4. Making payments out of and into your account   \n",
       "\n",
       "                                                body  \n",
       "0  These additional terms and conditions apply to...  \n",
       "1  Section 1 of the Customer Agreement says that ...  \n",
       "2  In addition to the various ways you can contac...  \n",
       "3  If we receive an instruction that contains inc...  \n",
       "4                                                     "
      ]
     },
     "execution_count": 9,
     "metadata": {},
     "output_type": "execute_result"
    }
   ],
   "source": [
    "barclays_header_body.head()"
   ]
  },
  {
   "cell_type": "markdown",
   "metadata": {},
   "source": [
    "## Content\n",
    "Apply TF-IDF to extract keywords from the body text (after stopword removal and lemmatisation). Search for the keywords in the headings.\n",
    "\n",
    "https://ieeexplore.ieee.org/abstract/document/8663040"
   ]
  },
  {
   "cell_type": "code",
   "execution_count": 11,
   "metadata": {},
   "outputs": [
    {
     "name": "stdout",
     "output_type": "stream",
     "text": [
      "Defaulting to user installation because normal site-packages is not writeable\n",
      "Requirement already satisfied: nltk in /Users/kimbo/Library/Python/3.9/lib/python/site-packages (3.8.1)\n",
      "Requirement already satisfied: click in /Users/kimbo/Library/Python/3.9/lib/python/site-packages (from nltk) (8.1.7)\n",
      "Requirement already satisfied: regex>=2021.8.3 in /Users/kimbo/Library/Python/3.9/lib/python/site-packages (from nltk) (2024.5.15)\n",
      "Requirement already satisfied: tqdm in /Users/kimbo/Library/Python/3.9/lib/python/site-packages (from nltk) (4.66.4)\n",
      "Requirement already satisfied: joblib in /Users/kimbo/Library/Python/3.9/lib/python/site-packages (from nltk) (1.4.2)\n",
      "\u001b[33mWARNING: You are using pip version 21.2.4; however, version 24.1 is available.\n",
      "You should consider upgrading via the '/Library/Developer/CommandLineTools/usr/bin/python3 -m pip install --upgrade pip' command.\u001b[0m\n",
      "Note: you may need to restart the kernel to use updated packages.\n"
     ]
    }
   ],
   "source": [
    "pip install nltk"
   ]
  },
  {
   "cell_type": "code",
   "execution_count": 12,
   "metadata": {},
   "outputs": [
    {
     "name": "stderr",
     "output_type": "stream",
     "text": [
      "[nltk_data] Downloading package punkt to /Users/kimbo/nltk_data...\n",
      "[nltk_data]   Package punkt is already up-to-date!\n",
      "[nltk_data] Downloading package stopwords to /Users/kimbo/nltk_data...\n",
      "[nltk_data]   Package stopwords is already up-to-date!\n",
      "[nltk_data] Downloading package wordnet to /Users/kimbo/nltk_data...\n",
      "[nltk_data]   Package wordnet is already up-to-date!\n"
     ]
    }
   ],
   "source": [
    "import nltk\n",
    "nltk.download('punkt')\n",
    "from nltk.tokenize import word_tokenize\n",
    "\n",
    "from nltk.corpus import stopwords\n",
    "nltk.download('stopwords')\n",
    "\n",
    "from nltk.stem import WordNetLemmatizer\n",
    "nltk.download('wordnet')\n",
    "\n",
    "from sklearn.feature_extraction.text import TfidfVectorizer"
   ]
  },
  {
   "cell_type": "code",
   "execution_count": 13,
   "metadata": {},
   "outputs": [],
   "source": [
    "heading = barclays_header_body['header'][1]\n",
    "body = barclays_header_body['body'][1]"
   ]
  },
  {
   "cell_type": "code",
   "execution_count": 14,
   "metadata": {},
   "outputs": [],
   "source": [
    "all_body = ' '.join(barclays_header_body['body'])"
   ]
  },
  {
   "cell_type": "code",
   "execution_count": 15,
   "metadata": {},
   "outputs": [
    {
     "name": "stdout",
     "output_type": "stream",
     "text": [
      "('banking', 0.4423258684646914)\n",
      "('customer', 0.4423258684646914)\n",
      "('agreement', 0.29488391230979427)\n",
      "('say', 0.29488391230979427)\n",
      "('section', 0.29488391230979427)\n",
      "('service', 0.29488391230979427)\n",
      "('apply', 0.14744195615489714)\n",
      "('barclays', 0.14744195615489714)\n",
      "('business', 0.14744195615489714)\n",
      "('charity', 0.14744195615489714)\n",
      "('club', 0.14744195615489714)\n",
      "('cover', 0.14744195615489714)\n",
      "('management', 0.14744195615489714)\n",
      "('notwithstanding', 0.14744195615489714)\n",
      "('professional', 0.14744195615489714)\n",
      "('provide', 0.14744195615489714)\n",
      "('trustee', 0.14744195615489714)\n",
      "('wealth', 0.14744195615489714)\n"
     ]
    }
   ],
   "source": [
    "# filter stop words\n",
    "words = nltk.word_tokenize(body.lower())\n",
    "stop_words = set(nltk.corpus.stopwords.words('english'))\n",
    "\n",
    "lemmatizer = WordNetLemmatizer()\n",
    "\n",
    "# Filter and lemmatize words\n",
    "filtered_words = [\n",
    "    lemmatizer.lemmatize(word) \n",
    "    for word in words \n",
    "    if word.isalnum() and word not in stop_words\n",
    "]\n",
    "\n",
    "document = ' '.join(filtered_words)\n",
    "vectorizer = TfidfVectorizer()\n",
    "tfidf_matrix = vectorizer.fit_transform([document])\n",
    "\n",
    "tfidf_scores = zip(vectorizer.get_feature_names_out(), tfidf_matrix.toarray()[0])\n",
    "sorted_keywords = sorted(tfidf_scores, key=lambda x: x[1], reverse=True)\n",
    "\n",
    "for item in sorted_keywords:\n",
    "  print(item)"
   ]
  },
  {
   "cell_type": "code",
   "execution_count": 16,
   "metadata": {},
   "outputs": [],
   "source": [
    "## function that measures keywords\n",
    "def keyword_relevance(heading, body):\n",
    "    # Tokenization and preprocessing for body\n",
    "    words = word_tokenize(body.lower())\n",
    "    stop_words = set(stopwords.words('english'))\n",
    "    lemmatizer = WordNetLemmatizer()\n",
    "    filtered_words = [lemmatizer.lemmatize(word) for word in words if word.isalnum() and word not in stop_words]\n",
    "    document = ' '.join(filtered_words)\n",
    "    \n",
    "    # TF-IDF vectorization\n",
    "    vectorizer = TfidfVectorizer()\n",
    "    tfidf_matrix = vectorizer.fit_transform([document])\n",
    "    \n",
    "    # Extract TF-IDF scores and keywords\n",
    "    tfidf_scores = zip(vectorizer.get_feature_names_out(), tfidf_matrix.toarray()[0])\n",
    "    sorted_keywords = sorted(tfidf_scores, key=lambda x: x[1], reverse=True)\n",
    "    \n",
    "    # Extract keywords only (top keywords based on TF-IDF score)\n",
    "    keywords = [keyword for keyword, score in sorted_keywords[:5]] #take top 5\n",
    "    \n",
    "    # Check if any keyword is in the heading and print the matched keyword(s)\n",
    "    matched_keywords = [keyword for keyword in keywords if keyword.lower() in heading.lower()]\n",
    "    \n",
    "    if matched_keywords:\n",
    "        print(f\"Matched keyword(s): {', '.join(matched_keywords)}\")\n",
    "        return 'Y'\n",
    "    else:\n",
    "        return 'N'"
   ]
  },
  {
   "cell_type": "code",
   "execution_count": 17,
   "metadata": {},
   "outputs": [
    {
     "name": "stdout",
     "output_type": "stream",
     "text": [
      "Matched keyword(s): banking, customer, agreement\n"
     ]
    },
    {
     "data": {
      "text/plain": [
       "'Y'"
      ]
     },
     "execution_count": 17,
     "metadata": {},
     "output_type": "execute_result"
    }
   ],
   "source": [
    "keyword_relevance(heading,body)"
   ]
  },
  {
   "cell_type": "code",
   "execution_count": 18,
   "metadata": {},
   "outputs": [],
   "source": [
    "## apply to entire df"
   ]
  },
  {
   "cell_type": "markdown",
   "metadata": {},
   "source": [
    "## Language\n",
    "Count the number of words. Headings should be between 3 to 14 words. "
   ]
  },
  {
   "cell_type": "code",
   "execution_count": 25,
   "metadata": {},
   "outputs": [],
   "source": [
    "def header_count(heading):\n",
    "    num_words = len(heading.split())\n",
    "    if 3 <= num_words <= 14:\n",
    "        return f\"Word count: {num_words}, Y\"\n",
    "    else:\n",
    "        return f\"Word count: {num_words}, N\""
   ]
  },
  {
   "cell_type": "code",
   "execution_count": 26,
   "metadata": {},
   "outputs": [
    {
     "data": {
      "text/plain": [
       "'Word count: 13, Y'"
      ]
     },
     "execution_count": 26,
     "metadata": {},
     "output_type": "execute_result"
    }
   ],
   "source": [
    "header_count(heading)"
   ]
  },
  {
   "cell_type": "code",
   "execution_count": 21,
   "metadata": {},
   "outputs": [],
   "source": [
    "## apply to entire df"
   ]
  },
  {
   "cell_type": "markdown",
   "metadata": {},
   "source": [
    "An external Grammar API will be used to verify grammar.\n",
    "\n",
    "https://aclanthology.org/2020.lrec-1.228.pdf\n",
    "\n",
    "https://docs.grammarbot.io/request/ (i will try bing spell later)"
   ]
  },
  {
   "cell_type": "code",
   "execution_count": null,
   "metadata": {},
   "outputs": [],
   "source": [
    "import requests\n",
    "import json\n",
    "\n",
    "import requests\n",
    "\n",
    "url = \"https://grammarbot-neural.p.rapidapi.com/v1/check\"\n",
    "key = \"<API KEY HERE>\"\n",
    "\n",
    "payload = {\n",
    "    \"text\": heading,\n",
    "    \"lang\": \"en\"\n",
    "}\n",
    "\n",
    "headers = {\n",
    "    \"content-type\": \"application/json\",\n",
    "    \"X-RapidAPI-Key\": key,\n",
    "    \"X-RapidAPI-Host\": \"grammarbot-neural.p.rapidapi.com\"\n",
    "}\n",
    "\n",
    "response = requests.request(\"POST\", url, json=payload, headers=headers)\n",
    "rjson = response.json()\n",
    "\n",
    "if rjson[\"status\"] == 200:\n",
    "    correction = rjson['correction']\n",
    "    print(correction)\n",
    "else:\n",
    "    print(\"ERROR: \" + str(rjson))"
   ]
  },
  {
   "cell_type": "markdown",
   "metadata": {},
   "source": [
    "Apply PassivePy package to detect any instance of passive voice. *Amplifi also has some code*\n",
    "\n",
    "https://myscp.onlinelibrary.wiley.com/doi/full/10.1002/jcpy.1377"
   ]
  },
  {
   "cell_type": "code",
   "execution_count": 28,
   "metadata": {},
   "outputs": [
    {
     "name": "stdout",
     "output_type": "stream",
     "text": [
      "Collecting en_core_web_lg (from -r https://raw.githubusercontent.com/mitramir55/PassivePy/main/PassivePyCode/PassivePySrc/requirements_lg.txt (line 5))\n",
      "  Using cached en_core_web_lg-3.4.0-py3-none-any.whl\n",
      "Requirement already satisfied: spacy==3.4.1 in /opt/anaconda3/lib/python3.11/site-packages (from -r https://raw.githubusercontent.com/mitramir55/PassivePy/main/PassivePyCode/PassivePySrc/requirements_lg.txt (line 1)) (3.4.1)\n",
      "Requirement already satisfied: spacy-legacy==3.0.10 in /opt/anaconda3/lib/python3.11/site-packages (from -r https://raw.githubusercontent.com/mitramir55/PassivePy/main/PassivePyCode/PassivePySrc/requirements_lg.txt (line 2)) (3.0.10)\n",
      "Requirement already satisfied: termcolor==1.1.0 in /opt/anaconda3/lib/python3.11/site-packages (from -r https://raw.githubusercontent.com/mitramir55/PassivePy/main/PassivePyCode/PassivePySrc/requirements_lg.txt (line 3)) (1.1.0)\n",
      "Requirement already satisfied: regex==2022.9.13 in /opt/anaconda3/lib/python3.11/site-packages (from -r https://raw.githubusercontent.com/mitramir55/PassivePy/main/PassivePyCode/PassivePySrc/requirements_lg.txt (line 4)) (2022.9.13)\n",
      "Requirement already satisfied: spacy-loggers<2.0.0,>=1.0.0 in /opt/anaconda3/lib/python3.11/site-packages (from spacy==3.4.1->-r https://raw.githubusercontent.com/mitramir55/PassivePy/main/PassivePyCode/PassivePySrc/requirements_lg.txt (line 1)) (1.0.5)\n",
      "Requirement already satisfied: murmurhash<1.1.0,>=0.28.0 in /opt/anaconda3/lib/python3.11/site-packages (from spacy==3.4.1->-r https://raw.githubusercontent.com/mitramir55/PassivePy/main/PassivePyCode/PassivePySrc/requirements_lg.txt (line 1)) (1.0.10)\n",
      "Requirement already satisfied: cymem<2.1.0,>=2.0.2 in /opt/anaconda3/lib/python3.11/site-packages (from spacy==3.4.1->-r https://raw.githubusercontent.com/mitramir55/PassivePy/main/PassivePyCode/PassivePySrc/requirements_lg.txt (line 1)) (2.0.8)\n",
      "Requirement already satisfied: preshed<3.1.0,>=3.0.2 in /opt/anaconda3/lib/python3.11/site-packages (from spacy==3.4.1->-r https://raw.githubusercontent.com/mitramir55/PassivePy/main/PassivePyCode/PassivePySrc/requirements_lg.txt (line 1)) (3.0.9)\n",
      "Requirement already satisfied: thinc<8.2.0,>=8.1.0 in /opt/anaconda3/lib/python3.11/site-packages (from spacy==3.4.1->-r https://raw.githubusercontent.com/mitramir55/PassivePy/main/PassivePyCode/PassivePySrc/requirements_lg.txt (line 1)) (8.1.12)\n",
      "Requirement already satisfied: wasabi<1.1.0,>=0.9.1 in /opt/anaconda3/lib/python3.11/site-packages (from spacy==3.4.1->-r https://raw.githubusercontent.com/mitramir55/PassivePy/main/PassivePyCode/PassivePySrc/requirements_lg.txt (line 1)) (0.10.1)\n",
      "Requirement already satisfied: srsly<3.0.0,>=2.4.3 in /opt/anaconda3/lib/python3.11/site-packages (from spacy==3.4.1->-r https://raw.githubusercontent.com/mitramir55/PassivePy/main/PassivePyCode/PassivePySrc/requirements_lg.txt (line 1)) (2.4.8)\n",
      "Requirement already satisfied: catalogue<2.1.0,>=2.0.6 in /opt/anaconda3/lib/python3.11/site-packages (from spacy==3.4.1->-r https://raw.githubusercontent.com/mitramir55/PassivePy/main/PassivePyCode/PassivePySrc/requirements_lg.txt (line 1)) (2.0.10)\n",
      "Requirement already satisfied: typer<0.5.0,>=0.3.0 in /opt/anaconda3/lib/python3.11/site-packages (from spacy==3.4.1->-r https://raw.githubusercontent.com/mitramir55/PassivePy/main/PassivePyCode/PassivePySrc/requirements_lg.txt (line 1)) (0.4.2)\n",
      "Requirement already satisfied: pathy>=0.3.5 in /opt/anaconda3/lib/python3.11/site-packages (from spacy==3.4.1->-r https://raw.githubusercontent.com/mitramir55/PassivePy/main/PassivePyCode/PassivePySrc/requirements_lg.txt (line 1)) (0.11.0)\n",
      "Requirement already satisfied: tqdm<5.0.0,>=4.38.0 in /opt/anaconda3/lib/python3.11/site-packages (from spacy==3.4.1->-r https://raw.githubusercontent.com/mitramir55/PassivePy/main/PassivePyCode/PassivePySrc/requirements_lg.txt (line 1)) (4.66.4)\n",
      "Requirement already satisfied: numpy>=1.15.0 in /opt/anaconda3/lib/python3.11/site-packages (from spacy==3.4.1->-r https://raw.githubusercontent.com/mitramir55/PassivePy/main/PassivePyCode/PassivePySrc/requirements_lg.txt (line 1)) (1.26.4)\n",
      "Requirement already satisfied: requests<3.0.0,>=2.13.0 in /opt/anaconda3/lib/python3.11/site-packages (from spacy==3.4.1->-r https://raw.githubusercontent.com/mitramir55/PassivePy/main/PassivePyCode/PassivePySrc/requirements_lg.txt (line 1)) (2.31.0)\n",
      "Requirement already satisfied: pydantic!=1.8,!=1.8.1,<1.10.0,>=1.7.4 in /opt/anaconda3/lib/python3.11/site-packages (from spacy==3.4.1->-r https://raw.githubusercontent.com/mitramir55/PassivePy/main/PassivePyCode/PassivePySrc/requirements_lg.txt (line 1)) (1.9.2)\n",
      "Requirement already satisfied: jinja2 in /opt/anaconda3/lib/python3.11/site-packages (from spacy==3.4.1->-r https://raw.githubusercontent.com/mitramir55/PassivePy/main/PassivePyCode/PassivePySrc/requirements_lg.txt (line 1)) (3.1.3)\n",
      "Requirement already satisfied: setuptools in /opt/anaconda3/lib/python3.11/site-packages (from spacy==3.4.1->-r https://raw.githubusercontent.com/mitramir55/PassivePy/main/PassivePyCode/PassivePySrc/requirements_lg.txt (line 1)) (68.2.2)\n",
      "Requirement already satisfied: packaging>=20.0 in /opt/anaconda3/lib/python3.11/site-packages (from spacy==3.4.1->-r https://raw.githubusercontent.com/mitramir55/PassivePy/main/PassivePyCode/PassivePySrc/requirements_lg.txt (line 1)) (23.1)\n",
      "Requirement already satisfied: langcodes<4.0.0,>=3.2.0 in /opt/anaconda3/lib/python3.11/site-packages (from spacy==3.4.1->-r https://raw.githubusercontent.com/mitramir55/PassivePy/main/PassivePyCode/PassivePySrc/requirements_lg.txt (line 1)) (3.4.0)\n",
      "Requirement already satisfied: language-data>=1.2 in /opt/anaconda3/lib/python3.11/site-packages (from langcodes<4.0.0,>=3.2.0->spacy==3.4.1->-r https://raw.githubusercontent.com/mitramir55/PassivePy/main/PassivePyCode/PassivePySrc/requirements_lg.txt (line 1)) (1.2.0)\n",
      "Requirement already satisfied: smart-open<7.0.0,>=5.2.1 in /opt/anaconda3/lib/python3.11/site-packages (from pathy>=0.3.5->spacy==3.4.1->-r https://raw.githubusercontent.com/mitramir55/PassivePy/main/PassivePyCode/PassivePySrc/requirements_lg.txt (line 1)) (5.2.1)\n",
      "Requirement already satisfied: pathlib-abc==0.1.1 in /opt/anaconda3/lib/python3.11/site-packages (from pathy>=0.3.5->spacy==3.4.1->-r https://raw.githubusercontent.com/mitramir55/PassivePy/main/PassivePyCode/PassivePySrc/requirements_lg.txt (line 1)) (0.1.1)\n",
      "Requirement already satisfied: typing-extensions>=3.7.4.3 in /opt/anaconda3/lib/python3.11/site-packages (from pydantic!=1.8,!=1.8.1,<1.10.0,>=1.7.4->spacy==3.4.1->-r https://raw.githubusercontent.com/mitramir55/PassivePy/main/PassivePyCode/PassivePySrc/requirements_lg.txt (line 1)) (4.9.0)\n",
      "Requirement already satisfied: charset-normalizer<4,>=2 in /opt/anaconda3/lib/python3.11/site-packages (from requests<3.0.0,>=2.13.0->spacy==3.4.1->-r https://raw.githubusercontent.com/mitramir55/PassivePy/main/PassivePyCode/PassivePySrc/requirements_lg.txt (line 1)) (2.0.4)\n",
      "Requirement already satisfied: idna<4,>=2.5 in /opt/anaconda3/lib/python3.11/site-packages (from requests<3.0.0,>=2.13.0->spacy==3.4.1->-r https://raw.githubusercontent.com/mitramir55/PassivePy/main/PassivePyCode/PassivePySrc/requirements_lg.txt (line 1)) (3.4)\n",
      "Requirement already satisfied: urllib3<3,>=1.21.1 in /opt/anaconda3/lib/python3.11/site-packages (from requests<3.0.0,>=2.13.0->spacy==3.4.1->-r https://raw.githubusercontent.com/mitramir55/PassivePy/main/PassivePyCode/PassivePySrc/requirements_lg.txt (line 1)) (2.0.7)\n",
      "Requirement already satisfied: certifi>=2017.4.17 in /opt/anaconda3/lib/python3.11/site-packages (from requests<3.0.0,>=2.13.0->spacy==3.4.1->-r https://raw.githubusercontent.com/mitramir55/PassivePy/main/PassivePyCode/PassivePySrc/requirements_lg.txt (line 1)) (2024.2.2)\n",
      "Requirement already satisfied: blis<0.8.0,>=0.7.8 in /opt/anaconda3/lib/python3.11/site-packages (from thinc<8.2.0,>=8.1.0->spacy==3.4.1->-r https://raw.githubusercontent.com/mitramir55/PassivePy/main/PassivePyCode/PassivePySrc/requirements_lg.txt (line 1)) (0.7.11)\n",
      "Requirement already satisfied: confection<1.0.0,>=0.0.1 in /opt/anaconda3/lib/python3.11/site-packages (from thinc<8.2.0,>=8.1.0->spacy==3.4.1->-r https://raw.githubusercontent.com/mitramir55/PassivePy/main/PassivePyCode/PassivePySrc/requirements_lg.txt (line 1)) (0.1.5)\n",
      "Requirement already satisfied: click<9.0.0,>=7.1.1 in /opt/anaconda3/lib/python3.11/site-packages (from typer<0.5.0,>=0.3.0->spacy==3.4.1->-r https://raw.githubusercontent.com/mitramir55/PassivePy/main/PassivePyCode/PassivePySrc/requirements_lg.txt (line 1)) (8.1.7)\n",
      "Requirement already satisfied: MarkupSafe>=2.0 in /opt/anaconda3/lib/python3.11/site-packages (from jinja2->spacy==3.4.1->-r https://raw.githubusercontent.com/mitramir55/PassivePy/main/PassivePyCode/PassivePySrc/requirements_lg.txt (line 1)) (2.1.3)\n",
      "Requirement already satisfied: marisa-trie>=0.7.7 in /opt/anaconda3/lib/python3.11/site-packages (from language-data>=1.2->langcodes<4.0.0,>=3.2.0->spacy==3.4.1->-r https://raw.githubusercontent.com/mitramir55/PassivePy/main/PassivePyCode/PassivePySrc/requirements_lg.txt (line 1)) (1.2.0)\n",
      "Requirement already satisfied: PassivePy==0.2.23 in /opt/anaconda3/lib/python3.11/site-packages (0.2.23)\n",
      "Requirement already satisfied: termcolor in /opt/anaconda3/lib/python3.11/site-packages (from PassivePy==0.2.23) (1.1.0)\n",
      "Requirement already satisfied: tqdm in /opt/anaconda3/lib/python3.11/site-packages (from PassivePy==0.2.23) (4.66.4)\n",
      "Requirement already satisfied: spacy>=3.0.0 in /opt/anaconda3/lib/python3.11/site-packages (from PassivePy==0.2.23) (3.4.1)\n",
      "Requirement already satisfied: spacy-legacy<3.1.0,>=3.0.9 in /opt/anaconda3/lib/python3.11/site-packages (from spacy>=3.0.0->PassivePy==0.2.23) (3.0.10)\n",
      "Requirement already satisfied: spacy-loggers<2.0.0,>=1.0.0 in /opt/anaconda3/lib/python3.11/site-packages (from spacy>=3.0.0->PassivePy==0.2.23) (1.0.5)\n",
      "Requirement already satisfied: murmurhash<1.1.0,>=0.28.0 in /opt/anaconda3/lib/python3.11/site-packages (from spacy>=3.0.0->PassivePy==0.2.23) (1.0.10)\n",
      "Requirement already satisfied: cymem<2.1.0,>=2.0.2 in /opt/anaconda3/lib/python3.11/site-packages (from spacy>=3.0.0->PassivePy==0.2.23) (2.0.8)\n",
      "Requirement already satisfied: preshed<3.1.0,>=3.0.2 in /opt/anaconda3/lib/python3.11/site-packages (from spacy>=3.0.0->PassivePy==0.2.23) (3.0.9)\n",
      "Requirement already satisfied: thinc<8.2.0,>=8.1.0 in /opt/anaconda3/lib/python3.11/site-packages (from spacy>=3.0.0->PassivePy==0.2.23) (8.1.12)\n",
      "Requirement already satisfied: wasabi<1.1.0,>=0.9.1 in /opt/anaconda3/lib/python3.11/site-packages (from spacy>=3.0.0->PassivePy==0.2.23) (0.10.1)\n",
      "Requirement already satisfied: srsly<3.0.0,>=2.4.3 in /opt/anaconda3/lib/python3.11/site-packages (from spacy>=3.0.0->PassivePy==0.2.23) (2.4.8)\n",
      "Requirement already satisfied: catalogue<2.1.0,>=2.0.6 in /opt/anaconda3/lib/python3.11/site-packages (from spacy>=3.0.0->PassivePy==0.2.23) (2.0.10)\n",
      "Requirement already satisfied: typer<0.5.0,>=0.3.0 in /opt/anaconda3/lib/python3.11/site-packages (from spacy>=3.0.0->PassivePy==0.2.23) (0.4.2)\n",
      "Requirement already satisfied: pathy>=0.3.5 in /opt/anaconda3/lib/python3.11/site-packages (from spacy>=3.0.0->PassivePy==0.2.23) (0.11.0)\n",
      "Requirement already satisfied: numpy>=1.15.0 in /opt/anaconda3/lib/python3.11/site-packages (from spacy>=3.0.0->PassivePy==0.2.23) (1.26.4)\n",
      "Requirement already satisfied: requests<3.0.0,>=2.13.0 in /opt/anaconda3/lib/python3.11/site-packages (from spacy>=3.0.0->PassivePy==0.2.23) (2.31.0)\n",
      "Requirement already satisfied: pydantic!=1.8,!=1.8.1,<1.10.0,>=1.7.4 in /opt/anaconda3/lib/python3.11/site-packages (from spacy>=3.0.0->PassivePy==0.2.23) (1.9.2)\n",
      "Requirement already satisfied: jinja2 in /opt/anaconda3/lib/python3.11/site-packages (from spacy>=3.0.0->PassivePy==0.2.23) (3.1.3)\n",
      "Requirement already satisfied: setuptools in /opt/anaconda3/lib/python3.11/site-packages (from spacy>=3.0.0->PassivePy==0.2.23) (68.2.2)\n",
      "Requirement already satisfied: packaging>=20.0 in /opt/anaconda3/lib/python3.11/site-packages (from spacy>=3.0.0->PassivePy==0.2.23) (23.1)\n",
      "Requirement already satisfied: langcodes<4.0.0,>=3.2.0 in /opt/anaconda3/lib/python3.11/site-packages (from spacy>=3.0.0->PassivePy==0.2.23) (3.4.0)\n",
      "Requirement already satisfied: language-data>=1.2 in /opt/anaconda3/lib/python3.11/site-packages (from langcodes<4.0.0,>=3.2.0->spacy>=3.0.0->PassivePy==0.2.23) (1.2.0)\n",
      "Requirement already satisfied: smart-open<7.0.0,>=5.2.1 in /opt/anaconda3/lib/python3.11/site-packages (from pathy>=0.3.5->spacy>=3.0.0->PassivePy==0.2.23) (5.2.1)\n",
      "Requirement already satisfied: pathlib-abc==0.1.1 in /opt/anaconda3/lib/python3.11/site-packages (from pathy>=0.3.5->spacy>=3.0.0->PassivePy==0.2.23) (0.1.1)\n",
      "Requirement already satisfied: typing-extensions>=3.7.4.3 in /opt/anaconda3/lib/python3.11/site-packages (from pydantic!=1.8,!=1.8.1,<1.10.0,>=1.7.4->spacy>=3.0.0->PassivePy==0.2.23) (4.9.0)\n",
      "Requirement already satisfied: charset-normalizer<4,>=2 in /opt/anaconda3/lib/python3.11/site-packages (from requests<3.0.0,>=2.13.0->spacy>=3.0.0->PassivePy==0.2.23) (2.0.4)\n",
      "Requirement already satisfied: idna<4,>=2.5 in /opt/anaconda3/lib/python3.11/site-packages (from requests<3.0.0,>=2.13.0->spacy>=3.0.0->PassivePy==0.2.23) (3.4)\n",
      "Requirement already satisfied: urllib3<3,>=1.21.1 in /opt/anaconda3/lib/python3.11/site-packages (from requests<3.0.0,>=2.13.0->spacy>=3.0.0->PassivePy==0.2.23) (2.0.7)\n",
      "Requirement already satisfied: certifi>=2017.4.17 in /opt/anaconda3/lib/python3.11/site-packages (from requests<3.0.0,>=2.13.0->spacy>=3.0.0->PassivePy==0.2.23) (2024.2.2)\n",
      "Requirement already satisfied: blis<0.8.0,>=0.7.8 in /opt/anaconda3/lib/python3.11/site-packages (from thinc<8.2.0,>=8.1.0->spacy>=3.0.0->PassivePy==0.2.23) (0.7.11)\n",
      "Requirement already satisfied: confection<1.0.0,>=0.0.1 in /opt/anaconda3/lib/python3.11/site-packages (from thinc<8.2.0,>=8.1.0->spacy>=3.0.0->PassivePy==0.2.23) (0.1.5)\n",
      "Requirement already satisfied: click<9.0.0,>=7.1.1 in /opt/anaconda3/lib/python3.11/site-packages (from typer<0.5.0,>=0.3.0->spacy>=3.0.0->PassivePy==0.2.23) (8.1.7)\n",
      "Requirement already satisfied: MarkupSafe>=2.0 in /opt/anaconda3/lib/python3.11/site-packages (from jinja2->spacy>=3.0.0->PassivePy==0.2.23) (2.1.3)\n",
      "Requirement already satisfied: marisa-trie>=0.7.7 in /opt/anaconda3/lib/python3.11/site-packages (from language-data>=1.2->langcodes<4.0.0,>=3.2.0->spacy>=3.0.0->PassivePy==0.2.23) (1.2.0)\n"
     ]
    }
   ],
   "source": [
    "!pip install -r https://raw.githubusercontent.com/mitramir55/PassivePy/main/PassivePyCode/PassivePySrc/requirements_lg.txt\n",
    "!pip install PassivePy==0.2.23"
   ]
  },
  {
   "cell_type": "code",
   "execution_count": 29,
   "metadata": {},
   "outputs": [
    {
     "ename": "ModuleNotFoundError",
     "evalue": "No module named 'PassivePySrc'",
     "output_type": "error",
     "traceback": [
      "\u001b[0;31m---------------------------------------------------------------------------\u001b[0m",
      "\u001b[0;31mModuleNotFoundError\u001b[0m                       Traceback (most recent call last)",
      "Cell \u001b[0;32mIn[29], line 1\u001b[0m\n\u001b[0;32m----> 1\u001b[0m \u001b[38;5;28;01mfrom\u001b[39;00m \u001b[38;5;21;01mPassivePySrc\u001b[39;00m \u001b[38;5;28;01mimport\u001b[39;00m PassivePy\n\u001b[1;32m      3\u001b[0m \u001b[38;5;28;01mdef\u001b[39;00m \u001b[38;5;21mpassive_count\u001b[39m(heading):\n\u001b[1;32m      4\u001b[0m     passivepy \u001b[38;5;241m=\u001b[39m PassivePy\u001b[38;5;241m.\u001b[39mPassivePyAnalyzer(spacy_model \u001b[38;5;241m=\u001b[39m \u001b[38;5;124m\"\u001b[39m\u001b[38;5;124men_core_web_lg\u001b[39m\u001b[38;5;124m\"\u001b[39m)\n",
      "\u001b[0;31mModuleNotFoundError\u001b[0m: No module named 'PassivePySrc'"
     ]
    }
   ],
   "source": [
    "from PassivePySrc import PassivePy\n",
    "\n",
    "def passive_count(heading):\n",
    "    passivepy = PassivePy.PassivePyAnalyzer(spacy_model = \"en_core_web_lg\")\n",
    "    result = passivepy.match_text(heading, full_passive=True, truncated_passive=True)\n",
    "    passive_count = result['passive_count']\n",
    "\n",
    "    if passive_count >= 1:\n",
    "        return f\"Instances of passive voice detected: {passive_count}, N\"\n",
    "    else:\n",
    "        return f\"Instances of passive voice detected: {passive_count}, Y\""
   ]
  },
  {
   "cell_type": "code",
   "execution_count": null,
   "metadata": {},
   "outputs": [],
   "source": [
    "## apply to entire df"
   ]
  },
  {
   "cell_type": "markdown",
   "metadata": {},
   "source": [
    "## Structure\n",
    "Count and compare the number of keywords in main headings and subheadings, looking for overlaps and a greater number generated. Additionally, the average word count of subheadings should be longer than the word count of the main heading. "
   ]
  },
  {
   "cell_type": "code",
   "execution_count": null,
   "metadata": {},
   "outputs": [],
   "source": [
    "# split the dataframe and append keywords and word count columns"
   ]
  },
  {
   "cell_type": "code",
   "execution_count": null,
   "metadata": {},
   "outputs": [],
   "source": [
    "# function that looks for overlapping keywords, keyword count and the average word count"
   ]
  }
 ],
 "metadata": {
  "kernelspec": {
   "display_name": "Python 3",
   "language": "python",
   "name": "python3"
  },
  "language_info": {
   "codemirror_mode": {
    "name": "ipython",
    "version": 3
   },
   "file_extension": ".py",
   "mimetype": "text/x-python",
   "name": "python",
   "nbconvert_exporter": "python",
   "pygments_lexer": "ipython3",
   "version": "3.9.6"
  }
 },
 "nbformat": 4,
 "nbformat_minor": 2
}
