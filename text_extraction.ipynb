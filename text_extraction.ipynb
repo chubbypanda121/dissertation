{
  "cells": [
    {
      "cell_type": "code",
      "execution_count": null,
      "id": "dbd3a21d",
      "metadata": {
        "collapsed": true,
        "id": "dbd3a21d",
        "outputId": "16527a2b-807c-4d91-a637-1d78bae006ec"
      },
      "outputs": [],
      "source": [
        "!pip install llmsherpa\n",
        "!pip install llama-index"
      ]
    },
    {
      "cell_type": "code",
      "execution_count": null,
      "id": "f75717e4",
      "metadata": {
        "id": "f75717e4",
        "outputId": "ba135082-a25a-45e2-9a45-6a03ca92367c"
      },
      "outputs": [],
      "source": [
        "from llmsherpa.readers import LayoutPDFReader\n",
        "llmsherpa_api_url = \"https://readers.llmsherpa.com/api/document/developer/parseDocument?renderFormat=all\""
      ]
    },
    {
      "cell_type": "code",
      "execution_count": 3,
      "id": "f777df83",
      "metadata": {
        "id": "f777df83"
      },
      "outputs": [],
      "source": [
        "## this commented code simply tests it out on a single pdf\n",
        "#pdf = 'Barclays_Wealth_Management.pdf'"
      ]
    },
    {
      "cell_type": "code",
      "execution_count": 4,
      "id": "19232f05",
      "metadata": {
        "id": "19232f05"
      },
      "outputs": [],
      "source": [
        "#pdf_reader = LayoutPDFReader(llmsherpa_api_url)\n",
        "#doc = pdf_reader.read_pdf(pdf)\n",
        "#data = doc.json"
      ]
    },
    {
      "cell_type": "code",
      "execution_count": 5,
      "id": "a4263792",
      "metadata": {
        "id": "a4263792",
        "outputId": "cab6a488-1f5a-4fec-fc16-ac5cb53153e1"
      },
      "outputs": [],
      "source": [
        "# extract only 'tag', 'sentences', and 'level' into a new list of dictionaries\n",
        "#filtered_data = [{'tag': entry.get('tag', 'N/A'),\n",
        "                  #'content': ' '.join(entry.get('sentences', [''])),\n",
        "                  #'level': entry.get('level', 'N/A')}\n",
        "                  #for entry in data]\n",
        "\n",
        "# turn to dataframe\n",
        "#df = pd.DataFrame(filtered_data)\n",
        "#df.head()"
      ]
    },
    {
      "cell_type": "code",
      "execution_count": null,
      "id": "5f17fff6",
      "metadata": {
        "collapsed": true,
        "id": "5f17fff6",
        "outputId": "432a86fb-0209-4d74-ef10-49b06f2b2633"
      },
      "outputs": [],
      "source": [
        "## process all pdfs in the folder\n",
        "import pandas as pd\n",
        "import os\n",
        "\n",
        "# get current directory- change depending on where the file is\n",
        "current_directory = os.getcwd()\n",
        "documents_directory = os.path.join(current_directory, 'documents')\n",
        "\n",
        "# os.makedirs(extracted_csv_directory, exist_ok=True)\n",
        "extracted_csv_directory = os.path.join(current_directory, 'extracted_csv')\n",
        "\n",
        "pdf_reader = LayoutPDFReader(llmsherpa_api_url)\n",
        "\n",
        "# loop\n",
        "for root, dirs, files in os.walk(documents_directory):\n",
        "    for file in files:\n",
        "        if file.endswith('.pdf'):\n",
        "            pdf_path = os.path.join(root, file)\n",
        "            print(f\"Processing {pdf_path}...\")\n",
        "\n",
        "            # read the PDF\n",
        "            doc = pdf_reader.read_pdf(pdf_path)\n",
        "            data = doc.json\n",
        "\n",
        "            # extract 'tag', 'sentences', and 'level'\n",
        "            filtered_data = [{'tag': entry.get('tag', 'N/A'),\n",
        "                              'content': ' '.join(entry.get('sentences', [''])),\n",
        "                              'level': entry.get('level', 'N/A')}\n",
        "                             for entry in data]\n",
        "\n",
        "            # convert to dataframe\n",
        "            df = pd.DataFrame(filtered_data)\n",
        "\n",
        "            # generate CSV file name\n",
        "            csv_file_name = os.path.splitext(file)[0] + '.csv'\n",
        "            csv_file_path = os.path.join(extracted_csv_directory, csv_file_name)\n",
        "\n",
        "            # save dataframe as CSV in the correct directory\n",
        "            df.to_csv(csv_file_path, index=False)\n",
        "            print(f\"Saved CSV: {csv_file_path}\")\n",
        "\n",
        "print(\"Complete\")"
      ]
    }
  ],
  "metadata": {
    "colab": {
      "provenance": []
    },
    "kernelspec": {
      "display_name": "Python 3",
      "language": "python",
      "name": "python3"
    },
    "language_info": {
      "codemirror_mode": {
        "name": "ipython",
        "version": 3
      },
      "file_extension": ".py",
      "mimetype": "text/x-python",
      "name": "python",
      "nbconvert_exporter": "python",
      "pygments_lexer": "ipython3",
      "version": "3.9.6"
    }
  },
  "nbformat": 4,
  "nbformat_minor": 5
}
